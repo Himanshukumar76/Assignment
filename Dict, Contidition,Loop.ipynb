{
 "cells": [
  {
   "cell_type": "code",
   "execution_count": 2,
   "id": "b698f43d-bff7-4d25-b727-b0d009d5d6a9",
   "metadata": {},
   "outputs": [
    {
     "data": {
      "text/plain": [
       "dict"
      ]
     },
     "execution_count": 2,
     "metadata": {},
     "output_type": "execute_result"
    }
   ],
   "source": [
    "d = {}\n",
    "type(d)"
   ]
  },
  {
   "cell_type": "code",
   "execution_count": 3,
   "id": "f638aa50-b7bd-4710-b9b2-4a4600549e1c",
   "metadata": {},
   "outputs": [],
   "source": [
    "d1 = {'key' : 'sudh'}"
   ]
  },
  {
   "cell_type": "code",
   "execution_count": 4,
   "id": "95a1f477-cb56-4bd5-afce-e074eaff6129",
   "metadata": {},
   "outputs": [
    {
     "name": "stdout",
     "output_type": "stream",
     "text": [
      "{'name': 'sudhanshu', 'email': 'ss@gmail.com', 'number': 334534}\n"
     ]
    }
   ],
   "source": [
    "d2= {'name' : 'sudhanshu, \"email\":\"ss@gmail.com\", \"number\":334534}\n",
    "print(d2)"
   ]
  },
  {
   "cell_type": "code",
   "execution_count": 8,
   "id": "e2dabcdc-d462-479a-8edb-21c8f622152a",
   "metadata": {},
   "outputs": [
    {
     "data": {
      "text/plain": [
       "{234: 'sudh', '_war': 'kumar', True: 234534}"
      ]
     },
     "execution_count": 8,
     "metadata": {},
     "output_type": "execute_result"
    }
   ],
   "source": [
    "d3 = {234 : \"sudh\", \"_war\" : \"kumar\", True : 234534}\n",
    "d3"
   ]
  },
  {
   "cell_type": "code",
   "execution_count": 9,
   "id": "f18d9193-91e3-4446-95c6-bc535bda458c",
   "metadata": {},
   "outputs": [
    {
     "data": {
      "text/plain": [
       "'sudh'"
      ]
     },
     "execution_count": 9,
     "metadata": {},
     "output_type": "execute_result"
    }
   ],
   "source": [
    "d3[234]"
   ]
  },
  {
   "cell_type": "code",
   "execution_count": 10,
   "id": "ab57f223-5de0-4032-9389-88e956108066",
   "metadata": {},
   "outputs": [
    {
     "data": {
      "text/plain": [
       "234534"
      ]
     },
     "execution_count": 10,
     "metadata": {},
     "output_type": "execute_result"
    }
   ],
   "source": [
    "d3[1]"
   ]
  },
  {
   "cell_type": "code",
   "execution_count": 11,
   "id": "5fecc746-a4c8-4415-bd35-d422c67eac66",
   "metadata": {},
   "outputs": [
    {
     "data": {
      "text/plain": [
       "{'name': 'Sudhanshu', 'mailid': 'ss@gmail.com'}"
      ]
     },
     "execution_count": 11,
     "metadata": {},
     "output_type": "execute_result"
    }
   ],
   "source": [
    "d4 = {'name' : 'sudh' , 'mailid' : 'ss@gmail.com', \"name\" : \"Sudhanshu\"}\n",
    "d4"
   ]
  },
  {
   "cell_type": "code",
   "execution_count": 12,
   "id": "755aa833-2eb4-4ec5-bad9-d635f4361e7b",
   "metadata": {},
   "outputs": [
    {
     "data": {
      "text/plain": [
       "'Sudhanshu'"
      ]
     },
     "execution_count": 12,
     "metadata": {},
     "output_type": "execute_result"
    }
   ],
   "source": [
    "d4['name']"
   ]
  },
  {
   "cell_type": "code",
   "execution_count": 13,
   "id": "93ef8085-fe00-420b-bb3f-2abe08c12858",
   "metadata": {},
   "outputs": [
    {
     "data": {
      "text/plain": [
       "{'company': 'pwskills',\n",
       " 'courses': ['web dev', 'data science', 'java with dsa system design']}"
      ]
     },
     "execution_count": 13,
     "metadata": {},
     "output_type": "execute_result"
    }
   ],
   "source": [
    "d5 = {\"company\" : \"pwskills\", \"courses\" : [\"web dev\" , \"data science\", \"java with dsa system design\"]}\n",
    "d5"
   ]
  },
  {
   "cell_type": "code",
   "execution_count": 14,
   "id": "94ccd751-2b20-4ecc-8a00-9f4d69f0cfb6",
   "metadata": {},
   "outputs": [
    {
     "data": {
      "text/plain": [
       "['web dev', 'data science', 'java with dsa system design']"
      ]
     },
     "execution_count": 14,
     "metadata": {},
     "output_type": "execute_result"
    }
   ],
   "source": [
    "d5['courses']"
   ]
  },
  {
   "cell_type": "code",
   "execution_count": 16,
   "id": "b7d150c7-c867-4239-92b0-e5e400e14fd0",
   "metadata": {},
   "outputs": [
    {
     "data": {
      "text/plain": [
       "'java with dsa system design'"
      ]
     },
     "execution_count": 16,
     "metadata": {},
     "output_type": "execute_result"
    }
   ],
   "source": [
    "d5['courses'][2]"
   ]
  },
  {
   "cell_type": "code",
   "execution_count": 17,
   "id": "f9de8db2-75dc-48cb-859f-e0f354d776ff",
   "metadata": {},
   "outputs": [
    {
     "data": {
      "text/plain": [
       "{'number': [2, 34, 3, 34, 34],\n",
       " 'assignment': (1, 2, 3, 4, 5, 6),\n",
       " 'launch data': {12, 14, 28},\n",
       " 'Class_time': {'web_dev': 8, 'Data_Science': 8, 'java with dsa': 10}}"
      ]
     },
     "execution_count": 17,
     "metadata": {},
     "output_type": "execute_result"
    }
   ],
   "source": [
    "d5 = {\"number\" : [2, 34, 3, 34, 34], \"assignment\" : (1,2,3,4,5,6), \"launch data\" : {28, 12, 14}, \"Class_time\" : {\"web_dev\":8, \"Data_Science\":8, \"java with dsa\":10}}\n",
    "d5"
   ]
  },
  {
   "cell_type": "code",
   "execution_count": 18,
   "id": "72e54e81-b27c-47dc-afe1-feb4f743f08c",
   "metadata": {},
   "outputs": [
    {
     "data": {
      "text/plain": [
       "10"
      ]
     },
     "execution_count": 18,
     "metadata": {},
     "output_type": "execute_result"
    }
   ],
   "source": [
    "d5[\"Class_time\"]['java with dsa']"
   ]
  },
  {
   "cell_type": "code",
   "execution_count": 19,
   "id": "15c20d57-bb3e-4546-a336-db69896611c1",
   "metadata": {},
   "outputs": [],
   "source": [
    "d5['mentor'] = [\"sudhanshu\", \"krish\", \"anurag\", \"hayder\"]"
   ]
  },
  {
   "cell_type": "code",
   "execution_count": 20,
   "id": "d665c85a-8795-44ab-89f0-0dc99842dd02",
   "metadata": {},
   "outputs": [
    {
     "data": {
      "text/plain": [
       "{'number': [2, 34, 3, 34, 34],\n",
       " 'assignment': (1, 2, 3, 4, 5, 6),\n",
       " 'launch data': {12, 14, 28},\n",
       " 'Class_time': {'web_dev': 8, 'Data_Science': 8, 'java with dsa': 10},\n",
       " 'mentor': ['sudhanshu', 'krish', 'anurag', 'hayder']}"
      ]
     },
     "execution_count": 20,
     "metadata": {},
     "output_type": "execute_result"
    }
   ],
   "source": [
    "d5"
   ]
  },
  {
   "cell_type": "code",
   "execution_count": 22,
   "id": "b1c48106-e8c1-4106-a869-712674545356",
   "metadata": {},
   "outputs": [],
   "source": [
    "del d5['number']"
   ]
  },
  {
   "cell_type": "code",
   "execution_count": 23,
   "id": "d30a07b5-74ef-44ca-9070-20fc15b31360",
   "metadata": {},
   "outputs": [
    {
     "data": {
      "text/plain": [
       "{'assignment': (1, 2, 3, 4, 5, 6),\n",
       " 'launch data': {12, 14, 28},\n",
       " 'Class_time': {'web_dev': 8, 'Data_Science': 8, 'java with dsa': 10},\n",
       " 'mentor': ['sudhanshu', 'krish', 'anurag', 'hayder']}"
      ]
     },
     "execution_count": 23,
     "metadata": {},
     "output_type": "execute_result"
    }
   ],
   "source": [
    "d5"
   ]
  },
  {
   "cell_type": "code",
   "execution_count": 25,
   "id": "0a2cb660-13e9-4081-a034-00f5b8d1d69c",
   "metadata": {},
   "outputs": [
    {
     "data": {
      "text/plain": [
       "dict_keys(['assignment', 'launch data', 'Class_time', 'mentor'])"
      ]
     },
     "execution_count": 25,
     "metadata": {},
     "output_type": "execute_result"
    }
   ],
   "source": [
    "d5.keys()"
   ]
  },
  {
   "cell_type": "code",
   "execution_count": 27,
   "id": "dbc20ea2-5ec4-4063-8e0e-a902f9a0e172",
   "metadata": {},
   "outputs": [
    {
     "data": {
      "text/plain": [
       "dict_values([(1, 2, 3, 4, 5, 6), {28, 12, 14}, {'web_dev': 8, 'Data_Science': 8, 'java with dsa': 10}, ['sudhanshu', 'krish', 'anurag', 'hayder']])"
      ]
     },
     "execution_count": 27,
     "metadata": {},
     "output_type": "execute_result"
    }
   ],
   "source": [
    "d5.values()"
   ]
  },
  {
   "cell_type": "code",
   "execution_count": 28,
   "id": "e143e78d-03b8-4d7e-a630-3a970aec3bd9",
   "metadata": {},
   "outputs": [
    {
     "data": {
      "text/plain": [
       "dict_items([('assignment', (1, 2, 3, 4, 5, 6)), ('launch data', {28, 12, 14}), ('Class_time', {'web_dev': 8, 'Data_Science': 8, 'java with dsa': 10}), ('mentor', ['sudhanshu', 'krish', 'anurag', 'hayder'])])"
      ]
     },
     "execution_count": 28,
     "metadata": {},
     "output_type": "execute_result"
    }
   ],
   "source": [
    "d5.items()"
   ]
  },
  {
   "cell_type": "code",
   "execution_count": 31,
   "id": "5f21d99f-2e83-4690-ad77-64eb762ebc1a",
   "metadata": {},
   "outputs": [
    {
     "data": {
      "text/plain": [
       "(1, 2, 3, 4, 5, 6)"
      ]
     },
     "execution_count": 31,
     "metadata": {},
     "output_type": "execute_result"
    }
   ],
   "source": [
    "d5.pop('assignment')"
   ]
  },
  {
   "cell_type": "code",
   "execution_count": 32,
   "id": "bafa480b-f7e7-485b-97cf-187fb963037d",
   "metadata": {},
   "outputs": [
    {
     "ename": "TypeError",
     "evalue": "pop expected at least 1 argument, got 0",
     "output_type": "error",
     "traceback": [
      "\u001b[0;31m---------------------------------------------------------------------------\u001b[0m",
      "\u001b[0;31mTypeError\u001b[0m                                 Traceback (most recent call last)",
      "Cell \u001b[0;32mIn[32], line 1\u001b[0m\n\u001b[0;32m----> 1\u001b[0m \u001b[43md5\u001b[49m\u001b[38;5;241;43m.\u001b[39;49m\u001b[43mpop\u001b[49m\u001b[43m(\u001b[49m\u001b[43m)\u001b[49m\n",
      "\u001b[0;31mTypeError\u001b[0m: pop expected at least 1 argument, got 0"
     ]
    }
   ],
   "source": [
    "d5.pop()"
   ]
  },
  {
   "cell_type": "code",
   "execution_count": 37,
   "id": "6dea159d-5504-46d5-9b6e-1b4d7d2a5120",
   "metadata": {},
   "outputs": [
    {
     "name": "stdin",
     "output_type": "stream",
     "text": [
      "Enter marks :  80\n"
     ]
    },
    {
     "name": "stdout",
     "output_type": "stream",
     "text": [
      "You will be a part of A0 batch\n"
     ]
    }
   ],
   "source": [
    "marks = int(input(\"Enter marks : \"))\n",
    "if marks>=80:\n",
    "    print(\"You will be a part of A0 batch\")\n",
    "elif marks >=60 and marks < 80:\n",
    "    print(\"You will be a part of A1 batch\")\n",
    "elif marks >=40 and marks <60:\n",
    "    print(\"You will be a part of A2 batch\")\n",
    "else:\n",
    "    print(\"You will be a part of A3 batch\")"
   ]
  },
  {
   "cell_type": "code",
   "execution_count": 42,
   "id": "7bf42304-dfb2-44f6-815d-3dd83c63d754",
   "metadata": {},
   "outputs": [
    {
     "name": "stdin",
     "output_type": "stream",
     "text": [
      "enter price :  4000\n"
     ]
    },
    {
     "name": "stdout",
     "output_type": "stream",
     "text": [
      "Its ok\n"
     ]
    }
   ],
   "source": [
    "price = int(input(\"enter price : \"))\n",
    "if price >5000:\n",
    "    print(\"I will not purchase\")\n",
    "elif price>2000 and price<5000:\n",
    "    print(\"Its ok\")\n",
    "elif price >1000 and price<2000:\n",
    "    print(\"I will purchase\")\n",
    "else:\n",
    "    print(\"I am not interested\")"
   ]
  },
  {
   "cell_type": "code",
   "execution_count": 53,
   "id": "8dbc3dee-93e8-4361-aee8-10e061683a00",
   "metadata": {},
   "outputs": [],
   "source": [
    "l = [1,2,3,4,5,6,7,8]\n",
    "l1 = []"
   ]
  },
  {
   "cell_type": "code",
   "execution_count": 52,
   "id": "43b822b8-ac85-4c20-8215-0f8856080ca6",
   "metadata": {},
   "outputs": [],
   "source": [
    "for i in l:\n",
    "    l1.append(i+1)"
   ]
  },
  {
   "cell_type": "code",
   "execution_count": 49,
   "id": "ae682444-ef12-4af1-ab23-f198af84b191",
   "metadata": {},
   "outputs": [
    {
     "data": {
      "text/plain": [
       "[2, 1, 2, 3, 4, 5, 6, 7, 8]"
      ]
     },
     "execution_count": 49,
     "metadata": {},
     "output_type": "execute_result"
    }
   ],
   "source": [
    "l1"
   ]
  },
  {
   "cell_type": "code",
   "execution_count": 3,
   "id": "9155085e-5dce-4d1c-8c55-978911a2c43f",
   "metadata": {},
   "outputs": [],
   "source": [
    "I = [\"sudh\",\"kumar\", \"pwskills\", \"course\"]\n"
   ]
  },
  {
   "cell_type": "code",
   "execution_count": 15,
   "id": "cb8d785e-96b9-46d8-8f44-17f218f2c3f1",
   "metadata": {},
   "outputs": [],
   "source": []
  },
  {
   "cell_type": "code",
   "execution_count": 17,
   "id": "34fb281a-236d-45e9-a035-47e90ede7944",
   "metadata": {},
   "outputs": [
    {
     "name": "stdout",
     "output_type": "stream",
     "text": [
      "sudh\n",
      "kumar\n",
      "pwskills\n",
      "course\n"
     ]
    }
   ],
   "source": [
    "L=[]\n",
    "for n in I:\n",
    "    print(n)\n",
    "    L.append(n.upper())"
   ]
  },
  {
   "cell_type": "code",
   "execution_count": 19,
   "id": "fa0dae29-590a-4ca4-9247-68420ce569fd",
   "metadata": {},
   "outputs": [
    {
     "data": {
      "text/plain": [
       "['SUDH', 'KUMAR', 'PWSKILLS', 'COURSE']"
      ]
     },
     "execution_count": 19,
     "metadata": {},
     "output_type": "execute_result"
    }
   ],
   "source": [
    "L"
   ]
  },
  {
   "cell_type": "code",
   "execution_count": 20,
   "id": "857332f0-2c45-4980-a2e3-b52cb2cfc766",
   "metadata": {},
   "outputs": [],
   "source": [
    "l = [1,2,3,4,5, \"sudh\", \"kumar\", 324, 24.6,\"abc\"]"
   ]
  },
  {
   "cell_type": "code",
   "execution_count": 24,
   "id": "e590f93c-c6bf-4b41-a0eb-3b53f69e5700",
   "metadata": {},
   "outputs": [],
   "source": [
    "l1_num=[]\n",
    "l2_str=[]\n",
    "for i in l:\n",
    "    if type(i) == int or type(i) == float:\n",
    "        l1_num.append(i)\n",
    "    else:\n",
    "        l2_str.append(i)"
   ]
  },
  {
   "cell_type": "code",
   "execution_count": 25,
   "id": "12ae72fa-35f4-4aba-a686-c3e90ba466ca",
   "metadata": {},
   "outputs": [
    {
     "data": {
      "text/plain": [
       "[1, 2, 3, 4, 5, 324, 24.6]"
      ]
     },
     "execution_count": 25,
     "metadata": {},
     "output_type": "execute_result"
    }
   ],
   "source": [
    "l1_num"
   ]
  },
  {
   "cell_type": "code",
   "execution_count": 26,
   "id": "d90879b6-1b07-4204-8ee9-cd7653435f48",
   "metadata": {},
   "outputs": [
    {
     "data": {
      "text/plain": [
       "['sudh', 'kumar', 'abc']"
      ]
     },
     "execution_count": 26,
     "metadata": {},
     "output_type": "execute_result"
    }
   ],
   "source": [
    "l2_str"
   ]
  },
  {
   "cell_type": "code",
   "execution_count": null,
   "id": "41189bcd-fb81-4398-9722-0663cb00f814",
   "metadata": {},
   "outputs": [],
   "source": []
  }
 ],
 "metadata": {
  "kernelspec": {
   "display_name": "Python 3 (ipykernel)",
   "language": "python",
   "name": "python3"
  },
  "language_info": {
   "codemirror_mode": {
    "name": "ipython",
    "version": 3
   },
   "file_extension": ".py",
   "mimetype": "text/x-python",
   "name": "python",
   "nbconvert_exporter": "python",
   "pygments_lexer": "ipython3",
   "version": "3.10.8"
  }
 },
 "nbformat": 4,
 "nbformat_minor": 5
}
